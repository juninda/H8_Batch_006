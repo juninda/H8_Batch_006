{
 "cells": [
  {
   "cell_type": "markdown",
   "id": "6420fd25",
   "metadata": {},
   "source": [
    "# Integers\n",
    "tidak ada batasan nilai"
   ]
  },
  {
   "cell_type": "code",
   "execution_count": 2,
   "id": "2609d834",
   "metadata": {},
   "outputs": [
    {
     "name": "stdout",
     "output_type": "stream",
     "text": [
      "435353\n"
     ]
    }
   ],
   "source": [
    "print(435352 +1)"
   ]
  },
  {
   "cell_type": "code",
   "execution_count": 3,
   "id": "45ae3726",
   "metadata": {},
   "outputs": [
    {
     "name": "stdout",
     "output_type": "stream",
     "text": [
      "10\n",
      "<class 'int'>\n"
     ]
    }
   ],
   "source": [
    "# Python interprets a sequence of decimal digits\n",
    "# without any prefix to be a decimal number\n",
    "\n",
    "print(10)\n",
    "print(type(10))"
   ]
  },
  {
   "cell_type": "markdown",
   "id": "d5036062",
   "metadata": {},
   "source": [
    "# Floating-Point Numbers\n",
    "- ditentukan dengan titik desimal\n",
    "- karakter e atau E diikuti dengan bilangan bulat + atau - dapat ditambahkan untuk menentukan notasi ilmiah"
   ]
  },
  {
   "cell_type": "code",
   "execution_count": 5,
   "id": "49f19109",
   "metadata": {},
   "outputs": [
    {
     "name": "stdout",
     "output_type": "stream",
     "text": [
      "4.2\n",
      "<class 'float'>\n",
      "4.0\n",
      "0.2\n",
      "4000000.0\n",
      "0.00042\n"
     ]
    }
   ],
   "source": [
    "print(4.2)\n",
    "print(type(4.2))\n",
    "print(4.)\n",
    "print(.2)\n",
    "print(.4e7)\n",
    "print(4.2e-4)"
   ]
  },
  {
   "cell_type": "markdown",
   "id": "d8ddabde",
   "metadata": {},
   "source": [
    "# Strings (Str)\n",
    "tidak ada batasan size dan boleh kosong"
   ]
  },
  {
   "cell_type": "code",
   "execution_count": 6,
   "id": "252dbf1a",
   "metadata": {},
   "outputs": [
    {
     "name": "stdout",
     "output_type": "stream",
     "text": [
      "Hacktiv8\n",
      "<class 'str'>\n"
     ]
    }
   ],
   "source": [
    "print('Hacktiv8')\n",
    "print(type('Hacktiv8'))"
   ]
  },
  {
   "cell_type": "code",
   "execution_count": 7,
   "id": "19fe5849",
   "metadata": {},
   "outputs": [
    {
     "name": "stdout",
     "output_type": "stream",
     "text": [
      "This string contains a single quote ('') character\n",
      "This string contains a double quote (\"\") character\n"
     ]
    }
   ],
   "source": [
    "print(\"This string contains a single quote ('') character\")\n",
    "print('This string contains a double quote (\"\") character')"
   ]
  },
  {
   "cell_type": "markdown",
   "id": "d3dbe048",
   "metadata": {},
   "source": [
    "# Boolean Type, Boolean Context, \"Truthness\""
   ]
  },
  {
   "cell_type": "code",
   "execution_count": 8,
   "id": "f5491975",
   "metadata": {},
   "outputs": [
    {
     "name": "stdout",
     "output_type": "stream",
     "text": [
      "<class 'bool'>\n",
      "<class 'bool'>\n"
     ]
    }
   ],
   "source": [
    "print(type(True))\n",
    "print(type(False))"
   ]
  },
  {
   "cell_type": "markdown",
   "id": "83dc7a85",
   "metadata": {},
   "source": [
    "# Variable Assignment\n",
    "variabel tidak perlu dideklarasikan atau didefinisikan, menggunakan simbol ="
   ]
  },
  {
   "cell_type": "code",
   "execution_count": 13,
   "id": "4cfd6eed",
   "metadata": {},
   "outputs": [
    {
     "name": "stdout",
     "output_type": "stream",
     "text": [
      "300\n"
     ]
    }
   ],
   "source": [
    "n=300\n",
    "print (n)"
   ]
  },
  {
   "cell_type": "code",
   "execution_count": 11,
   "id": "c2e6db99",
   "metadata": {},
   "outputs": [
    {
     "data": {
      "text/plain": [
       "300"
      ]
     },
     "execution_count": 11,
     "metadata": {},
     "output_type": "execute_result"
    }
   ],
   "source": [
    "n"
   ]
  },
  {
   "cell_type": "code",
   "execution_count": 15,
   "id": "c720df9d",
   "metadata": {},
   "outputs": [
    {
     "name": "stdout",
     "output_type": "stream",
     "text": [
      "100\n"
     ]
    }
   ],
   "source": [
    "# nilai dari variabel yang sama akan berubah jika valuenya diganti\n",
    "\n",
    "n=100\n",
    "print(n)"
   ]
  },
  {
   "cell_type": "code",
   "execution_count": 16,
   "id": "f231335c",
   "metadata": {},
   "outputs": [
    {
     "data": {
      "text/plain": [
       "100"
      ]
     },
     "execution_count": 16,
     "metadata": {},
     "output_type": "execute_result"
    }
   ],
   "source": [
    "n"
   ]
  },
  {
   "cell_type": "code",
   "execution_count": 17,
   "id": "824627f3",
   "metadata": {},
   "outputs": [
    {
     "name": "stdout",
     "output_type": "stream",
     "text": [
      "300 300 300\n"
     ]
    }
   ],
   "source": [
    "a = b = c = 300\n",
    "print(a,b,c)"
   ]
  },
  {
   "cell_type": "markdown",
   "id": "f756a7b1",
   "metadata": {},
   "source": [
    "# Variable Types in Python\n",
    " variabel diketik secara statis\n",
    " variabel yang dideklarasikan diawal memiliki tipe data tertentu dan nilai apa pun yang ditetapkan pada variable tersebut selama masa pakainya harus selalu memiliki tipe itu."
   ]
  },
  {
   "cell_type": "code",
   "execution_count": 18,
   "id": "17115df9",
   "metadata": {},
   "outputs": [
    {
     "name": "stdout",
     "output_type": "stream",
     "text": [
      "23.5\n",
      "Now I'm a string\n"
     ]
    }
   ],
   "source": [
    "var = 23.5\n",
    "print(var)\n",
    "\n",
    "var = \"Now I'm a string\"\n",
    "print(var)"
   ]
  },
  {
   "cell_type": "markdown",
   "id": "bc75d7db",
   "metadata": {},
   "source": [
    "# Variabel Names"
   ]
  },
  {
   "cell_type": "code",
   "execution_count": 20,
   "id": "2650702e",
   "metadata": {},
   "outputs": [
    {
     "name": "stdout",
     "output_type": "stream",
     "text": [
      "Hacktiv8 54 True\n"
     ]
    }
   ],
   "source": [
    "name = 'Hacktiv8'\n",
    "age = 54\n",
    "has_laptops = True\n",
    "print(name, age, has_laptops)"
   ]
  },
  {
   "cell_type": "code",
   "execution_count": 21,
   "id": "2d0ec0af",
   "metadata": {},
   "outputs": [
    {
     "ename": "SyntaxError",
     "evalue": "invalid decimal literal (Temp/ipykernel_9616/3089999727.py, line 3)",
     "output_type": "error",
     "traceback": [
      "\u001b[1;36m  File \u001b[1;32m\"C:\\Users\\ASUS\\AppData\\Local\\Temp/ipykernel_9616/3089999727.py\"\u001b[1;36m, line \u001b[1;32m3\u001b[0m\n\u001b[1;33m    9_laptop = True\u001b[0m\n\u001b[1;37m     ^\u001b[0m\n\u001b[1;31mSyntaxError\u001b[0m\u001b[1;31m:\u001b[0m invalid decimal literal\n"
     ]
    }
   ],
   "source": [
    "# tidak boleh dimulai dengan angka\n",
    "\n",
    "9_laptop = True"
   ]
  },
  {
   "cell_type": "code",
   "execution_count": 22,
   "id": "c33bd9c4",
   "metadata": {},
   "outputs": [
    {
     "name": "stdout",
     "output_type": "stream",
     "text": [
      "1 2 3 4 5 6 7 8\n"
     ]
    }
   ],
   "source": [
    "# case sensitive\n",
    "\n",
    "age = 1\n",
    "Age = 2\n",
    "aGe = 3\n",
    "AGE = 4\n",
    "a_g_e = 5\n",
    "_age = 6\n",
    "age_ = 7\n",
    "_AGE_ = 8\n",
    "\n",
    "print(age, Age, aGe, AGE, a_g_e, _age, age_, _AGE_)"
   ]
  },
  {
   "cell_type": "markdown",
   "id": "e16af3bc",
   "metadata": {},
   "source": [
    "Note:\n",
    "\n",
    "Tiga metode penulisan variabel\n",
    "- Camel Case (numberOfCollegeGraduates)\n",
    "- Pascal Case (NumberOfCollegeGraduates)\n",
    "- Snak Case (number_of_college_graduates)"
   ]
  },
  {
   "cell_type": "markdown",
   "id": "419c4f89",
   "metadata": {},
   "source": [
    "# Operators and Expressions in Python"
   ]
  },
  {
   "cell_type": "code",
   "execution_count": 23,
   "id": "82ac142c",
   "metadata": {},
   "outputs": [
    {
     "data": {
      "text/plain": [
       "30"
      ]
     },
     "execution_count": 23,
     "metadata": {},
     "output_type": "execute_result"
    }
   ],
   "source": [
    "a = 10\n",
    "b = 20\n",
    "a + b"
   ]
  },
  {
   "cell_type": "code",
   "execution_count": 24,
   "id": "d721fc45",
   "metadata": {},
   "outputs": [
    {
     "data": {
      "text/plain": [
       "25"
      ]
     },
     "execution_count": 24,
     "metadata": {},
     "output_type": "execute_result"
    }
   ],
   "source": [
    "# operator: +, -, *, /, ^, etc\n",
    "# operand: integer\n",
    "\n",
    "a = 10\n",
    "b = 20\n",
    "a + b - 5  # disebut expression"
   ]
  },
  {
   "cell_type": "markdown",
   "id": "9740aa63",
   "metadata": {},
   "source": [
    "# Arithmetic Operators"
   ]
  },
  {
   "cell_type": "code",
   "execution_count": 26,
   "id": "8de77bbf",
   "metadata": {},
   "outputs": [
    {
     "name": "stdout",
     "output_type": "stream",
     "text": [
      "7\n",
      "1\n",
      "12\n",
      "1.3333333333333333\n",
      "1\n",
      "64\n"
     ]
    }
   ],
   "source": [
    "a = 4\n",
    "b = 3\n",
    "\n",
    "print(a + b)\n",
    "print(a - b)\n",
    "print(a * b)\n",
    "print(a / b)\n",
    "print(a % b)\n",
    "print(a ** b)"
   ]
  },
  {
   "cell_type": "code",
   "execution_count": 27,
   "id": "bdb61d9f",
   "metadata": {},
   "outputs": [
    {
     "data": {
      "text/plain": [
       "2.0"
      ]
     },
     "execution_count": 27,
     "metadata": {},
     "output_type": "execute_result"
    }
   ],
   "source": [
    "# hasil dari pembagian akan selalu ditampilkan dengan type float walaupun hasilnya genap\n",
    "\n",
    "10 / 5"
   ]
  },
  {
   "cell_type": "markdown",
   "id": "a730aa7b",
   "metadata": {},
   "source": [
    "# Comparison Operators"
   ]
  },
  {
   "cell_type": "code",
   "execution_count": 29,
   "id": "1c66e589",
   "metadata": {},
   "outputs": [
    {
     "name": "stdout",
     "output_type": "stream",
     "text": [
      "False\n",
      "True\n",
      "True\n",
      "False\n",
      "True\n",
      "True\n",
      "True\n"
     ]
    }
   ],
   "source": [
    "a = 10\n",
    "b = 20\n",
    "print(a == b)\n",
    "\n",
    "print(a != b)\n",
    "\n",
    "print(a <= b)\n",
    "\n",
    "print(a >= b)\n",
    "\n",
    "\n",
    "a = 30\n",
    "b = 30\n",
    "print(a == b)\n",
    "\n",
    "print(a <= b)\n",
    "\n",
    "print(a >= b)"
   ]
  },
  {
   "cell_type": "markdown",
   "id": "f80b1a2a",
   "metadata": {},
   "source": [
    "# String Manipulation"
   ]
  },
  {
   "cell_type": "code",
   "execution_count": 30,
   "id": "78d919db",
   "metadata": {},
   "outputs": [
    {
     "name": "stdout",
     "output_type": "stream",
     "text": [
      "foobar\n",
      "foobarbaz\n",
      "Hacktiv8 PTP\n"
     ]
    }
   ],
   "source": [
    "# + Operators\n",
    "s = 'foo'\n",
    "t = 'bar'\n",
    "u = 'baz'\n",
    "\n",
    "print(s + t)\n",
    "\n",
    "print(s + t + u)\n",
    "\n",
    "\n",
    "print('Hacktiv8 ' + 'PTP')"
   ]
  },
  {
   "cell_type": "code",
   "execution_count": 31,
   "id": "2a621cde",
   "metadata": {},
   "outputs": [
    {
     "data": {
      "text/plain": [
       "'foo.foo.foo.foo.'"
      ]
     },
     "execution_count": 31,
     "metadata": {},
     "output_type": "execute_result"
    }
   ],
   "source": [
    "# * Operators\n",
    "\n",
    "s = 'foo.'\n",
    "\n",
    "s * 4"
   ]
  },
  {
   "cell_type": "code",
   "execution_count": 32,
   "id": "bd355fe1",
   "metadata": {},
   "outputs": [
    {
     "name": "stdout",
     "output_type": "stream",
     "text": [
      "True\n",
      "False\n"
     ]
    }
   ],
   "source": [
    "s = 'foo'\n",
    "\n",
    "print(s in 'That food for us')\n",
    "\n",
    "print(s in 'That good for us')"
   ]
  },
  {
   "cell_type": "code",
   "execution_count": 33,
   "id": "b8846dd4",
   "metadata": {
    "scrolled": true
   },
   "outputs": [
    {
     "name": "stdout",
     "output_type": "stream",
     "text": [
      "Hacktiv8\n",
      "hacktiv8\n",
      "hACKtiv8\n",
      "Hacktiv8\n",
      "HACKTIV8\n"
     ]
    }
   ],
   "source": [
    "# Case Conversion\n",
    "s = 'HackTIV8'\n",
    "\n",
    "# Capitalize\n",
    "print(s.capitalize())\n",
    "\n",
    "# Lower\n",
    "print(s.lower())\n",
    "\n",
    "# Swapcase\n",
    "print(s.swapcase())\n",
    "\n",
    "# Title\n",
    "print(s.title())\n",
    "\n",
    "# Uppercase\n",
    "print(s.upper())"
   ]
  },
  {
   "cell_type": "markdown",
   "id": "fccbe42a",
   "metadata": {},
   "source": [
    "# Python List\n",
    "list adalah kumpulan objek yg arbitary"
   ]
  },
  {
   "cell_type": "code",
   "execution_count": 34,
   "id": "ca55c35f",
   "metadata": {},
   "outputs": [
    {
     "name": "stdout",
     "output_type": "stream",
     "text": [
      "['foo', 'bar', 'baz', 'qux']\n"
     ]
    }
   ],
   "source": [
    "a = ['foo', 'bar', 'baz', 'qux']\n",
    "\n",
    "print(a)"
   ]
  },
  {
   "cell_type": "markdown",
   "id": "4b03ed7b",
   "metadata": {},
   "source": [
    "Karakteristik penting dari List Python adalah sebagai berikut:\n",
    "\n",
    "- Lists are ordered.\n",
    "- Lists can contain any arbitrary objects.\n",
    "- List elements can be accessed by index.\n",
    "- Lists can be nested to arbitrary depth.\n",
    "- Lists are mutable.\n",
    "- Lists are dynamic.\n",
    "- Lists Are Ordered"
   ]
  },
  {
   "cell_type": "code",
   "execution_count": 35,
   "id": "cd0ceae5",
   "metadata": {},
   "outputs": [
    {
     "data": {
      "text/plain": [
       "False"
      ]
     },
     "execution_count": 35,
     "metadata": {},
     "output_type": "execute_result"
    }
   ],
   "source": [
    "a = ['foo', 'bar', 'baz', 'qux']\n",
    "b = ['baz', 'qux', 'bar', 'foo']\n",
    "\n",
    "a == b"
   ]
  },
  {
   "cell_type": "markdown",
   "id": "55460a48",
   "metadata": {},
   "source": [
    "Sebuah List dapat berisi bermacam-macam objek. Element dari List semuanya bisa berjenis sama"
   ]
  },
  {
   "cell_type": "code",
   "execution_count": 36,
   "id": "80f67843",
   "metadata": {},
   "outputs": [
    {
     "name": "stdout",
     "output_type": "stream",
     "text": [
      "[21.42, 'foobar', 3, 4, 'bark', False, 3.14159]\n"
     ]
    }
   ],
   "source": [
    "a = [21.42, 'foobar', 3, 4, 'bark', False, 3.14159]\n",
    "\n",
    "print(a)"
   ]
  },
  {
   "cell_type": "markdown",
   "id": "871f6cec",
   "metadata": {},
   "source": [
    "List Elements Can Be Accessed by Index\n",
    "- Elemen individual dalam List dapat diakses menggunakan indeks dalam tanda kurung siku. Ini sama persis dengan mengakses karakter individu dalam sebuah string. Pengindeksan List berbasis nol seperti halnya dengan string."
   ]
  },
  {
   "cell_type": "code",
   "execution_count": 37,
   "id": "0a428ae9",
   "metadata": {},
   "outputs": [],
   "source": [
    "a = ['foo', 'bar', 'baz', 'qux', 'quux', 'corge']"
   ]
  },
  {
   "cell_type": "code",
   "execution_count": 38,
   "id": "83e80601",
   "metadata": {},
   "outputs": [
    {
     "name": "stdout",
     "output_type": "stream",
     "text": [
      "foo\n",
      "corge\n"
     ]
    }
   ],
   "source": [
    "print(a[0])\n",
    "print(a[5])"
   ]
  },
  {
   "cell_type": "code",
   "execution_count": 39,
   "id": "b81d99be",
   "metadata": {},
   "outputs": [
    {
     "name": "stdout",
     "output_type": "stream",
     "text": [
      "corge\n",
      "foo\n"
     ]
    }
   ],
   "source": [
    "# indeks list negatif\n",
    "\n",
    "print(a[-1])\n",
    "print(a[-6])"
   ]
  },
  {
   "cell_type": "markdown",
   "id": "aaa87cef",
   "metadata": {},
   "source": [
    " Jika a adalah list, ekspresi a[m:n] mengembalikan porsi a dari indeks m ke n, tetapi tidak termasuk, indeks n:"
   ]
  },
  {
   "cell_type": "code",
   "execution_count": 40,
   "id": "78344f0c",
   "metadata": {},
   "outputs": [
    {
     "data": {
      "text/plain": [
       "['baz', 'qux', 'quux']"
      ]
     },
     "execution_count": 40,
     "metadata": {},
     "output_type": "execute_result"
    }
   ],
   "source": [
    "a = ['foo', 'bar', 'baz', 'qux', 'quux', 'corge']\n",
    "\n",
    "a[2:5]"
   ]
  },
  {
   "cell_type": "code",
   "execution_count": 41,
   "id": "9e621c2f",
   "metadata": {},
   "outputs": [
    {
     "name": "stdout",
     "output_type": "stream",
     "text": [
      "['foo', 'bar', 'baz', 'qux', 'quux', 'corge']\n",
      "['foo', 'bar', 'baz', 'qux', 'quux', 'corge', 'grault', 'garply']\n",
      "['foo', 'bar', 'baz', 'qux', 'quux', 'corge', 'foo', 'bar', 'baz', 'qux', 'quux', 'corge']\n"
     ]
    }
   ],
   "source": [
    "print(a)\n",
    "\n",
    "print(a + ['grault', 'garply'])\n",
    "print(a * 2)"
   ]
  },
  {
   "cell_type": "code",
   "execution_count": 42,
   "id": "ce398f78",
   "metadata": {},
   "outputs": [
    {
     "name": "stdout",
     "output_type": "stream",
     "text": [
      "['foo', 'bar', 'baz', 'qux', 'quux', 'corge']\n",
      "6\n",
      "bar\n",
      "qux\n"
     ]
    }
   ],
   "source": [
    "print(a)\n",
    "\n",
    "print(len(a))\n",
    "print(min(a))\n",
    "print(max(a))"
   ]
  },
  {
   "cell_type": "markdown",
   "id": "d7be5f66",
   "metadata": {},
   "source": [
    "## Modifying a Single List Value"
   ]
  },
  {
   "cell_type": "code",
   "execution_count": 43,
   "id": "d54028ef",
   "metadata": {},
   "outputs": [
    {
     "name": "stdout",
     "output_type": "stream",
     "text": [
      "['foo', 'bar', 'baz', 'qux', 'quux', 'corge']\n",
      "['foo', 'bar', 10, 'qux', 'quux', 20]\n"
     ]
    }
   ],
   "source": [
    "a = ['foo', 'bar', 'baz', 'qux', 'quux', 'corge']\n",
    "\n",
    "print(a)\n",
    "\n",
    "a[2] = 10\n",
    "a[-1] = 20\n",
    "\n",
    "print(a)"
   ]
  },
  {
   "cell_type": "code",
   "execution_count": 44,
   "id": "a19d6b95",
   "metadata": {},
   "outputs": [
    {
     "name": "stdout",
     "output_type": "stream",
     "text": [
      "['foo', 'bar', 10, 'quux', 20]\n"
     ]
    }
   ],
   "source": [
    "# menghapus list item\n",
    "\n",
    "del a[3]\n",
    "print (a)"
   ]
  },
  {
   "cell_type": "markdown",
   "id": "76c9ca23",
   "metadata": {},
   "source": [
    "## Modifying Multiple List Values"
   ]
  },
  {
   "cell_type": "code",
   "execution_count": 45,
   "id": "8e6f48d7",
   "metadata": {},
   "outputs": [
    {
     "name": "stdout",
     "output_type": "stream",
     "text": [
      "['bar', 'baz', 'qux']\n",
      "['foo', 1.1, 2.2, 3.3, 4.4, 5.5, 'quux', 'corge']\n"
     ]
    }
   ],
   "source": [
    "a = ['foo', 'bar', 'baz', 'qux', 'quux', 'corge']\n",
    "\n",
    "print(a[1:4])\n",
    "\n",
    "a[1:4] = [1.1, 2.2, 3.3, 4.4, 5.5]\n",
    "\n",
    "print(a)"
   ]
  },
  {
   "cell_type": "markdown",
   "id": "c75bffec",
   "metadata": {},
   "source": [
    "# Pyhton Tuples\n",
    "Tuples identik dengan list dalam segala hal, kecuali untuk properti berikut:\n",
    "- Tuples didefinisikan dengan mengapit elemen dalam tanda kurung (()) daripada tanda kurung siku ([])\n",
    "- Tuples tidak bisa diubah"
   ]
  },
  {
   "cell_type": "code",
   "execution_count": 46,
   "id": "95069fd5",
   "metadata": {},
   "outputs": [
    {
     "name": "stdout",
     "output_type": "stream",
     "text": [
      "('foo', 'bar', 'baz', 'qux', 'quux', 'corge')\n"
     ]
    }
   ],
   "source": [
    "t = ('foo', 'bar', 'baz', 'qux', 'quux', 'corge')\n",
    "\n",
    "print(t)"
   ]
  },
  {
   "cell_type": "code",
   "execution_count": 47,
   "id": "98b242c2",
   "metadata": {},
   "outputs": [
    {
     "name": "stdout",
     "output_type": "stream",
     "text": [
      "foo\n",
      "corge\n"
     ]
    }
   ],
   "source": [
    "print(t[0])\n",
    "\n",
    "print(t[-1])"
   ]
  },
  {
   "cell_type": "code",
   "execution_count": 48,
   "id": "93073de4",
   "metadata": {},
   "outputs": [
    {
     "data": {
      "text/plain": [
       "'foo'"
      ]
     },
     "execution_count": 48,
     "metadata": {},
     "output_type": "execute_result"
    }
   ],
   "source": [
    "(s1, s2, s3, s4) = ('foo', 'bar', 'baz', 'qux')\n",
    "\n",
    "s1"
   ]
  },
  {
   "cell_type": "markdown",
   "id": "e0305cf8",
   "metadata": {},
   "source": [
    "# Python Dictionary\n",
    "sebuah implementasi py dari struktur data yg lebih dikenal sbg associative array. terdiri dari key-value pairs."
   ]
  },
  {
   "cell_type": "code",
   "execution_count": 49,
   "id": "f712744d",
   "metadata": {},
   "outputs": [],
   "source": [
    "MLB_team = {\n",
    "    'Colorado': 'Rockies',\n",
    "    'Boston': 'Red Sox',\n",
    "    'Minnesota': 'Twins',\n",
    "    'Milwaukee': 'Brewers',\n",
    "    'Seattle': 'Mariners'\n",
    "}"
   ]
  },
  {
   "cell_type": "markdown",
   "id": "f112d338",
   "metadata": {},
   "source": [
    "## Accessing Dictionary Values"
   ]
  },
  {
   "cell_type": "code",
   "execution_count": 50,
   "id": "c0088b1b",
   "metadata": {},
   "outputs": [
    {
     "name": "stdout",
     "output_type": "stream",
     "text": [
      "Twins\n",
      "Rockies\n"
     ]
    }
   ],
   "source": [
    "print(MLB_team['Minnesota'])\n",
    "print(MLB_team['Colorado'])"
   ]
  },
  {
   "cell_type": "code",
   "execution_count": 51,
   "id": "22d11f82",
   "metadata": {},
   "outputs": [
    {
     "data": {
      "text/plain": [
       "{'Colorado': 'Rockies',\n",
       " 'Boston': 'Red Sox',\n",
       " 'Minnesota': 'Twins',\n",
       " 'Milwaukee': 'Brewers',\n",
       " 'Seattle': 'Mariners',\n",
       " 'Kansas City': 'Royals'}"
      ]
     },
     "execution_count": 51,
     "metadata": {},
     "output_type": "execute_result"
    }
   ],
   "source": [
    "# menambahkan entry baru pada kamus yang sudah ada\n",
    "\n",
    "MLB_team['Kansas City'] = 'Royals'\n",
    "MLB_team"
   ]
  },
  {
   "cell_type": "code",
   "execution_count": 52,
   "id": "ff07b72e",
   "metadata": {},
   "outputs": [
    {
     "data": {
      "text/plain": [
       "{'Colorado': 'Rockies',\n",
       " 'Boston': 'Red Sox',\n",
       " 'Minnesota': 'Twins',\n",
       " 'Milwaukee': 'Brewers',\n",
       " 'Seattle': 'Seahawks',\n",
       " 'Kansas City': 'Royals'}"
      ]
     },
     "execution_count": 52,
     "metadata": {},
     "output_type": "execute_result"
    }
   ],
   "source": [
    "# update entry\n",
    "\n",
    "MLB_team['Seattle'] = 'Seahawks'\n",
    "MLB_team"
   ]
  },
  {
   "cell_type": "code",
   "execution_count": 53,
   "id": "db3555fb",
   "metadata": {},
   "outputs": [
    {
     "data": {
      "text/plain": [
       "{'Colorado': 'Rockies',\n",
       " 'Boston': 'Red Sox',\n",
       " 'Minnesota': 'Twins',\n",
       " 'Milwaukee': 'Brewers',\n",
       " 'Kansas City': 'Royals'}"
      ]
     },
     "execution_count": 53,
     "metadata": {},
     "output_type": "execute_result"
    }
   ],
   "source": [
    "# delete entry\n",
    "\n",
    "del MLB_team['Seattle']\n",
    "MLB_team"
   ]
  },
  {
   "cell_type": "markdown",
   "id": "4259060f",
   "metadata": {},
   "source": [
    "## Building a Dictionary Incrementally\n",
    "menambahkan entry baru sambil jalan"
   ]
  },
  {
   "cell_type": "code",
   "execution_count": 56,
   "id": "d9d8a72c",
   "metadata": {},
   "outputs": [
    {
     "data": {
      "text/plain": [
       "{'fname': 'Hack',\n",
       " 'lname': 'PTP',\n",
       " 'age': 51,\n",
       " 'spouse': 'Edna',\n",
       " 'children': ['Ralph', 'Betty', 'Joey'],\n",
       " 'pets': {'dog': 'Fido', 'cat': 'Sox'}}"
      ]
     },
     "execution_count": 56,
     "metadata": {},
     "output_type": "execute_result"
    }
   ],
   "source": [
    "person = {}\n",
    "type(person)\n",
    "\n",
    "person['fname'] = 'Hack'\n",
    "person['lname'] = 'PTP'\n",
    "person['age'] = 51\n",
    "person['spouse'] = 'Edna'\n",
    "person['children'] = ['Ralph', 'Betty', 'Joey']\n",
    "person['pets'] = {'dog': 'Fido', 'cat': 'Sox'}\n",
    "\n",
    "person"
   ]
  },
  {
   "cell_type": "code",
   "execution_count": 57,
   "id": "a9b21f19",
   "metadata": {},
   "outputs": [
    {
     "name": "stdout",
     "output_type": "stream",
     "text": [
      "Hack\n",
      "PTP\n"
     ]
    }
   ],
   "source": [
    "print(person['fname'])\n",
    "print(person['lname'])"
   ]
  },
  {
   "cell_type": "code",
   "execution_count": 58,
   "id": "fc180eb7",
   "metadata": {},
   "outputs": [
    {
     "name": "stdout",
     "output_type": "stream",
     "text": [
      "['Ralph', 'Betty', 'Joey']\n",
      "Betty\n"
     ]
    }
   ],
   "source": [
    "print(person['children'])\n",
    "print(person['children'][1])"
   ]
  },
  {
   "cell_type": "code",
   "execution_count": 62,
   "id": "2827c0ff",
   "metadata": {},
   "outputs": [
    {
     "name": "stdout",
     "output_type": "stream",
     "text": [
      "{'dog': 'Fido', 'cat': 'Sox'}\n",
      "Fido\n"
     ]
    }
   ],
   "source": [
    "print(person['pets'])\n",
    "print(person['pets']['dog'])"
   ]
  },
  {
   "cell_type": "code",
   "execution_count": 63,
   "id": "2a72fe06",
   "metadata": {},
   "outputs": [
    {
     "name": "stdout",
     "output_type": "stream",
     "text": [
      "dict_items([('a', 10), ('b', 20), ('c', 30)])\n",
      "dict_keys(['a', 'b', 'c'])\n",
      "dict_values([10, 20, 30])\n"
     ]
    }
   ],
   "source": [
    "# Built-in Methods\n",
    "d = {'a': 10, 'b': 20, 'c': 30}\n",
    "\n",
    "# items\n",
    "print(d.items())\n",
    "\n",
    "# keys\n",
    "print(d.keys())\n",
    "\n",
    "# values\n",
    "print(d.values())"
   ]
  },
  {
   "cell_type": "markdown",
   "id": "4e194cd8",
   "metadata": {},
   "source": [
    "# Line Continuation\n",
    "Misalkan satu pernyataan dalam kode Python kalian sangat panjang"
   ]
  },
  {
   "cell_type": "code",
   "execution_count": 64,
   "id": "db2e6446",
   "metadata": {},
   "outputs": [
    {
     "data": {
      "text/plain": [
       "True"
      ]
     },
     "execution_count": 64,
     "metadata": {},
     "output_type": "execute_result"
    }
   ],
   "source": [
    "person1_age = 42\n",
    "person2_age = 16\n",
    "person3_age = 71\n",
    "\n",
    "someone_is_of_working_age = (person1_age >= 18 and person1_age <= 65) or (person2_age >= 18 and person2_age <= 65) or (person3_age >= 18 and person3_age <= 65)\n",
    "someone_is_of_working_age"
   ]
  },
  {
   "cell_type": "code",
   "execution_count": 65,
   "id": "228fc78b",
   "metadata": {},
   "outputs": [
    {
     "data": {
      "text/plain": [
       "True"
      ]
     },
     "execution_count": 65,
     "metadata": {},
     "output_type": "execute_result"
    }
   ],
   "source": [
    "someone_is_of_working_age = (\n",
    "    (person1_age >= 18 and person1_age <= 65)\n",
    "    or (person2_age >= 18 and person2_age <= 65)\n",
    "    or (person3_age >= 18 and person3_age <= 65)\n",
    ")\n",
    "\n",
    "someone_is_of_working_age"
   ]
  }
 ],
 "metadata": {
  "kernelspec": {
   "display_name": "Python 3 (ipykernel)",
   "language": "python",
   "name": "python3"
  },
  "language_info": {
   "codemirror_mode": {
    "name": "ipython",
    "version": 3
   },
   "file_extension": ".py",
   "mimetype": "text/x-python",
   "name": "python",
   "nbconvert_exporter": "python",
   "pygments_lexer": "ipython3",
   "version": "3.9.7"
  }
 },
 "nbformat": 4,
 "nbformat_minor": 5
}
