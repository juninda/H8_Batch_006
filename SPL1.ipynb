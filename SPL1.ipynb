{
 "cells": [
  {
   "cell_type": "markdown",
   "id": "7dd61d37",
   "metadata": {},
   "source": [
    "# Kode Jupyter"
   ]
  },
  {
   "cell_type": "markdown",
   "id": "8cb82966",
   "metadata": {},
   "source": [
    "## Simple syntax"
   ]
  },
  {
   "cell_type": "code",
   "execution_count": 1,
   "id": "d9ad9085",
   "metadata": {},
   "outputs": [
    {
     "name": "stdout",
     "output_type": "stream",
     "text": [
      "Hello World!\n"
     ]
    }
   ],
   "source": [
    "print('Hello World!')"
   ]
  },
  {
   "cell_type": "code",
   "execution_count": 3,
   "id": "c9109c59",
   "metadata": {},
   "outputs": [
    {
     "name": "stdout",
     "output_type": "stream",
     "text": [
      "1\n",
      "2\n",
      "3\n",
      "4\n",
      "5\n",
      "6\n",
      "7\n",
      "8\n",
      "9\n",
      "10\n"
     ]
    }
   ],
   "source": [
    "i = 1\n",
    "while (i <= 10):\n",
    "    print (i)\n",
    "    i = i+1"
   ]
  },
  {
   "cell_type": "markdown",
   "id": "5099e7fc",
   "metadata": {},
   "source": [
    "## Using Library"
   ]
  },
  {
   "cell_type": "code",
   "execution_count": 7,
   "id": "79a6ed22",
   "metadata": {},
   "outputs": [],
   "source": [
    "# jika ada library yang belum terinstall bisa intall terlebih dahulu dengan kode\n",
    "# !install pip3 pandas\n",
    "\n",
    "import pandas as pd       #library yang fokus pada proses analisis, eg manipulasi, persiapan, cleaning data\n",
    "import numpy as np        #library yang fokus pada scientific computing"
   ]
  },
  {
   "cell_type": "code",
   "execution_count": 15,
   "id": "7b8c2fa6",
   "metadata": {},
   "outputs": [
    {
     "data": {
      "text/html": [
       "<div>\n",
       "<style scoped>\n",
       "    .dataframe tbody tr th:only-of-type {\n",
       "        vertical-align: middle;\n",
       "    }\n",
       "\n",
       "    .dataframe tbody tr th {\n",
       "        vertical-align: top;\n",
       "    }\n",
       "\n",
       "    .dataframe thead th {\n",
       "        text-align: right;\n",
       "    }\n",
       "</style>\n",
       "<table border=\"1\" class=\"dataframe\">\n",
       "  <thead>\n",
       "    <tr style=\"text-align: right;\">\n",
       "      <th></th>\n",
       "      <th>A</th>\n",
       "      <th>B</th>\n",
       "      <th>C</th>\n",
       "    </tr>\n",
       "  </thead>\n",
       "  <tbody>\n",
       "    <tr>\n",
       "      <th>0</th>\n",
       "      <td>1</td>\n",
       "      <td>2</td>\n",
       "      <td>3</td>\n",
       "    </tr>\n",
       "    <tr>\n",
       "      <th>1</th>\n",
       "      <td>4</td>\n",
       "      <td>5</td>\n",
       "      <td>6</td>\n",
       "    </tr>\n",
       "  </tbody>\n",
       "</table>\n",
       "</div>"
      ],
      "text/plain": [
       "   A  B  C\n",
       "0  1  2  3\n",
       "1  4  5  6"
      ]
     },
     "execution_count": 15,
     "metadata": {},
     "output_type": "execute_result"
    }
   ],
   "source": [
    "# membuat tabel\n",
    "data = pd.DataFrame(data=np.array(([1,2,3], [4,5,6]), dtype=int), columns=['A', 'B', 'C'])\n",
    "data"
   ]
  },
  {
   "cell_type": "markdown",
   "id": "aa33da29",
   "metadata": {},
   "source": [
    "## Using Latex\n",
    "#### syntax Latex = persamaan matematika"
   ]
  },
  {
   "cell_type": "markdown",
   "id": "843b2521",
   "metadata": {},
   "source": [
    "$$c = \\sqrt(a^2 + b^2)$$"
   ]
  },
  {
   "cell_type": "code",
   "execution_count": 20,
   "id": "32abac4e",
   "metadata": {},
   "outputs": [
    {
     "data": {
      "text/latex": [
       "$\\displaystyle c =\\sqrt a^2 + b^2$"
      ],
      "text/plain": [
       "<IPython.core.display.Math object>"
      ]
     },
     "metadata": {},
     "output_type": "display_data"
    }
   ],
   "source": [
    "from IPython.display import Math, display, Latex\n",
    "display (Math(r'c =\\sqrt a^2 + b^2'))"
   ]
  },
  {
   "cell_type": "markdown",
   "id": "dd2eb5d9",
   "metadata": {},
   "source": [
    "## Executing Shell Command"
   ]
  },
  {
   "cell_type": "code",
   "execution_count": 22,
   "id": "e69e23b4",
   "metadata": {},
   "outputs": [],
   "source": [
    "# !ls\n",
    "# !pwd\n",
    "# !echo 'Halo Kode'"
   ]
  },
  {
   "cell_type": "markdown",
   "id": "bf2e6a4a",
   "metadata": {},
   "source": [
    "## Passing Value To and From Shell"
   ]
  },
  {
   "cell_type": "raw",
   "id": "7a30c7c0",
   "metadata": {},
   "source": [
    "# files = !ls\n",
    "# print (files)"
   ]
  }
 ],
 "metadata": {
  "kernelspec": {
   "display_name": "Python 3 (ipykernel)",
   "language": "python",
   "name": "python3"
  },
  "language_info": {
   "codemirror_mode": {
    "name": "ipython",
    "version": 3
   },
   "file_extension": ".py",
   "mimetype": "text/x-python",
   "name": "python",
   "nbconvert_exporter": "python",
   "pygments_lexer": "ipython3",
   "version": "3.9.7"
  }
 },
 "nbformat": 4,
 "nbformat_minor": 5
}
