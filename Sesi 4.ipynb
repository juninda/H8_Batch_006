{
 "cells": [
  {
   "cell_type": "markdown",
   "id": "54e9c757",
   "metadata": {},
   "source": [
    "# Numpy (Numerical Python)"
   ]
  },
  {
   "cell_type": "code",
   "execution_count": 1,
   "id": "05fe8543",
   "metadata": {},
   "outputs": [],
   "source": [
    "import numpy as np"
   ]
  },
  {
   "cell_type": "markdown",
   "id": "bf9a6047",
   "metadata": {},
   "source": [
    "## Array"
   ]
  },
  {
   "cell_type": "markdown",
   "id": "6e099b89",
   "metadata": {},
   "source": [
    "### Creating Array\n",
    "- np.array()\n",
    "- np.zeros()\n",
    "- np.ones()\n",
    "- np.empty()\n",
    "- np.arange()"
   ]
  },
  {
   "cell_type": "code",
   "execution_count": 3,
   "id": "8af5ba2d",
   "metadata": {},
   "outputs": [
    {
     "data": {
      "text/plain": [
       "array([1, 2, 3])"
      ]
     },
     "execution_count": 3,
     "metadata": {},
     "output_type": "execute_result"
    }
   ],
   "source": [
    "# membuat array\n",
    "\n",
    "a = np.array([1, 2, 3])\n",
    "a"
   ]
  },
  {
   "cell_type": "code",
   "execution_count": 4,
   "id": "39724d3b",
   "metadata": {},
   "outputs": [
    {
     "data": {
      "text/plain": [
       "array([0., 0., 0., 0., 0., 0.])"
      ]
     },
     "execution_count": 4,
     "metadata": {},
     "output_type": "execute_result"
    }
   ],
   "source": [
    "# array dengan value 0\n",
    "\n",
    "np.zeros(6)"
   ]
  },
  {
   "cell_type": "code",
   "execution_count": 5,
   "id": "f6e11cc8",
   "metadata": {},
   "outputs": [
    {
     "data": {
      "text/plain": [
       "array([1., 1., 1., 1., 1., 1.])"
      ]
     },
     "execution_count": 5,
     "metadata": {},
     "output_type": "execute_result"
    }
   ],
   "source": [
    "# array dengan value 1\n",
    "\n",
    "np.ones(6)"
   ]
  },
  {
   "cell_type": "code",
   "execution_count": 6,
   "id": "c069e0cf",
   "metadata": {},
   "outputs": [
    {
     "data": {
      "text/plain": [
       "array([1., 1., 1., 1., 1., 1.])"
      ]
     },
     "execution_count": 6,
     "metadata": {},
     "output_type": "execute_result"
    }
   ],
   "source": [
    "# empty array\n",
    "\n",
    "np.empty(6)"
   ]
  },
  {
   "cell_type": "code",
   "execution_count": 7,
   "id": "ab6830df",
   "metadata": {},
   "outputs": [
    {
     "name": "stdout",
     "output_type": "stream",
     "text": [
      "[0 1 2 3]\n",
      "[0 2 4 6 8]\n"
     ]
    }
   ],
   "source": [
    "# array dengan batasan (range) elemen\n",
    "\n",
    "print(np.arange(4))\n",
    "print(np.arange(0,10,2)) # (start, stop, step)"
   ]
  },
  {
   "cell_type": "code",
   "execution_count": 8,
   "id": "fb3b9f76",
   "metadata": {},
   "outputs": [
    {
     "data": {
      "text/plain": [
       "array([ 2,  7, 12, 17, 22, 27])"
      ]
     },
     "execution_count": 8,
     "metadata": {},
     "output_type": "execute_result"
    }
   ],
   "source": [
    "np.arange(2,29,5)"
   ]
  },
  {
   "cell_type": "markdown",
   "id": "da84b636",
   "metadata": {},
   "source": [
    "### Add, Remove, and Sort\n",
    "- np.append()\n",
    "- np.delete()\n",
    "- np.sort()"
   ]
  },
  {
   "cell_type": "code",
   "execution_count": 9,
   "id": "d24eed39",
   "metadata": {},
   "outputs": [
    {
     "data": {
      "text/plain": [
       "array([1, 2, 3, 4, 5, 6, 7, 8, 1, 2])"
      ]
     },
     "execution_count": 9,
     "metadata": {},
     "output_type": "execute_result"
    }
   ],
   "source": [
    "# menambahkan 1, 2\n",
    "\n",
    "arr = np.array([1, 2, 3, 4, 5, 6, 7, 8])\n",
    "np.append(arr, [1,2])"
   ]
  },
  {
   "cell_type": "code",
   "execution_count": 10,
   "id": "aabff48b",
   "metadata": {},
   "outputs": [
    {
     "data": {
      "text/plain": [
       "array([1, 3, 4, 5, 6, 7, 8])"
      ]
     },
     "execution_count": 10,
     "metadata": {},
     "output_type": "execute_result"
    }
   ],
   "source": [
    "# menghapus 1\n",
    "\n",
    "np.delete(arr, 1)"
   ]
  },
  {
   "cell_type": "code",
   "execution_count": 11,
   "id": "159ff8c1",
   "metadata": {},
   "outputs": [
    {
     "data": {
      "text/plain": [
       "array([1, 2, 3, 4, 5, 6, 7, 8])"
      ]
     },
     "execution_count": 11,
     "metadata": {},
     "output_type": "execute_result"
    }
   ],
   "source": [
    "# mengurutkan array\n",
    "\n",
    "arr = np.array([2, 1, 5, 3, 7, 4, 6, 8])\n",
    "np.sort(arr)"
   ]
  },
  {
   "cell_type": "markdown",
   "id": "7394a328",
   "metadata": {},
   "source": [
    "### Shape and Size\n",
    "- ndarray.ndim() : memberi tahu kalian jumlah axes, atau dimensi, dari array.\n",
    "- ndarray.size() : memberi tahu kalian jumlah total elemen array. Ini adalah produk dari elemen shape array.\n",
    "- ndarray.shape() : menampilkan tuple integer yang menunjukkan jumlah elemen yang disimpan di sepanjang setiap dimensi array"
   ]
  },
  {
   "cell_type": "code",
   "execution_count": 12,
   "id": "bc3a7817",
   "metadata": {},
   "outputs": [
    {
     "name": "stdout",
     "output_type": "stream",
     "text": [
      "[[[0 1 2 3]\n",
      "  [4 5 6 7]]\n",
      "\n",
      " [[0 1 2 3]\n",
      "  [4 5 6 7]]\n",
      "\n",
      " [[0 1 2 3]\n",
      "  [4 5 6 7]]]\n"
     ]
    }
   ],
   "source": [
    "array_example = np.array([[[0, 1, 2, 3],\n",
    "                           [4, 5, 6, 7]],\n",
    "\n",
    "                          [[0, 1, 2, 3],\n",
    "                           [4, 5, 6, 7]],\n",
    "\n",
    "                          [[0, 1, 2, 3],\n",
    "                           [4, 5, 6, 7]]])\n",
    "\n",
    "print(array_example)"
   ]
  },
  {
   "cell_type": "code",
   "execution_count": 13,
   "id": "2d0578a7",
   "metadata": {},
   "outputs": [
    {
     "data": {
      "text/plain": [
       "3"
      ]
     },
     "execution_count": 13,
     "metadata": {},
     "output_type": "execute_result"
    }
   ],
   "source": [
    "array_example.ndim"
   ]
  },
  {
   "cell_type": "code",
   "execution_count": 14,
   "id": "88692106",
   "metadata": {},
   "outputs": [
    {
     "data": {
      "text/plain": [
       "24"
      ]
     },
     "execution_count": 14,
     "metadata": {},
     "output_type": "execute_result"
    }
   ],
   "source": [
    "array_example.size"
   ]
  },
  {
   "cell_type": "code",
   "execution_count": 15,
   "id": "c8ac8369",
   "metadata": {},
   "outputs": [
    {
     "data": {
      "text/plain": [
       "(3, 2, 4)"
      ]
     },
     "execution_count": 15,
     "metadata": {},
     "output_type": "execute_result"
    }
   ],
   "source": [
    "array_example.shape"
   ]
  },
  {
   "cell_type": "code",
   "execution_count": 17,
   "id": "5a8fe328",
   "metadata": {},
   "outputs": [
    {
     "data": {
      "text/plain": [
       "2"
      ]
     },
     "execution_count": 17,
     "metadata": {},
     "output_type": "execute_result"
    }
   ],
   "source": [
    "arr_one = np.array([[1, 2, 3, 4, 5]])\n",
    "arr_one.ndim"
   ]
  },
  {
   "cell_type": "code",
   "execution_count": 18,
   "id": "41eee024",
   "metadata": {},
   "outputs": [
    {
     "data": {
      "text/plain": [
       "5"
      ]
     },
     "execution_count": 18,
     "metadata": {},
     "output_type": "execute_result"
    }
   ],
   "source": [
    "arr_one.size"
   ]
  },
  {
   "cell_type": "code",
   "execution_count": 19,
   "id": "d584a7ff",
   "metadata": {},
   "outputs": [
    {
     "data": {
      "text/plain": [
       "(1, 5)"
      ]
     },
     "execution_count": 19,
     "metadata": {},
     "output_type": "execute_result"
    }
   ],
   "source": [
    "arr_one.shape"
   ]
  },
  {
   "cell_type": "markdown",
   "id": "e36deede",
   "metadata": {},
   "source": [
    "### Reshape\n",
    "- memberikan bentuk baru ke array tanpa mengubah datanya\n",
    "- numpy.reshape(a, newshape, order)"
   ]
  },
  {
   "cell_type": "code",
   "execution_count": 20,
   "id": "65ed1ab6",
   "metadata": {},
   "outputs": [
    {
     "name": "stdout",
     "output_type": "stream",
     "text": [
      "[0 1 2 3 4 5]\n"
     ]
    }
   ],
   "source": [
    "a = np.arange(6)\n",
    "\n",
    "print(a)"
   ]
  },
  {
   "cell_type": "code",
   "execution_count": 21,
   "id": "cb99bf37",
   "metadata": {},
   "outputs": [
    {
     "name": "stdout",
     "output_type": "stream",
     "text": [
      "[[0 1]\n",
      " [2 3]\n",
      " [4 5]]\n"
     ]
    }
   ],
   "source": [
    "b = a.reshape(3,2)\n",
    "\n",
    "print(b)"
   ]
  },
  {
   "cell_type": "code",
   "execution_count": 22,
   "id": "a91e8570",
   "metadata": {},
   "outputs": [
    {
     "data": {
      "text/plain": [
       "array([[0],\n",
       "       [1],\n",
       "       [2],\n",
       "       [3],\n",
       "       [4],\n",
       "       [5]])"
      ]
     },
     "execution_count": 22,
     "metadata": {},
     "output_type": "execute_result"
    }
   ],
   "source": [
    "a.reshape(6,1)"
   ]
  },
  {
   "cell_type": "markdown",
   "id": "e8090e5a",
   "metadata": {},
   "source": [
    "### Convert 1D to 2D\n",
    "- np.newaxis\n",
    "- np.expand_dims"
   ]
  },
  {
   "cell_type": "code",
   "execution_count": 23,
   "id": "087016ec",
   "metadata": {},
   "outputs": [
    {
     "data": {
      "text/plain": [
       "(6,)"
      ]
     },
     "execution_count": 23,
     "metadata": {},
     "output_type": "execute_result"
    }
   ],
   "source": [
    "a = np.array([1, 2, 3, 4, 5, 6])\n",
    "a.shape"
   ]
  },
  {
   "cell_type": "code",
   "execution_count": 24,
   "id": "213abd46",
   "metadata": {},
   "outputs": [
    {
     "name": "stdout",
     "output_type": "stream",
     "text": [
      "(1, 6)\n",
      "[[1 2 3 4 5 6]]\n"
     ]
    }
   ],
   "source": [
    "# add new axis\n",
    "\n",
    "a2 = a[np.newaxis]\n",
    "print(a2.shape)\n",
    "print(a2)"
   ]
  },
  {
   "cell_type": "code",
   "execution_count": 26,
   "id": "a938337f",
   "metadata": {},
   "outputs": [
    {
     "name": "stdout",
     "output_type": "stream",
     "text": [
      "(1, 6)\n",
      "[[1 2 3 4 5 6]]\n"
     ]
    }
   ],
   "source": [
    "# convert 1D array to a row vector\n",
    "\n",
    "row_vector = a[np.newaxis, :]\n",
    "print(row_vector.shape)\n",
    "print(row_vector)"
   ]
  },
  {
   "cell_type": "code",
   "execution_count": 27,
   "id": "5d89899d",
   "metadata": {},
   "outputs": [
    {
     "name": "stdout",
     "output_type": "stream",
     "text": [
      "(6, 1)\n",
      "[[1]\n",
      " [2]\n",
      " [3]\n",
      " [4]\n",
      " [5]\n",
      " [6]]\n"
     ]
    }
   ],
   "source": [
    "# insert an axis at column vector\n",
    "\n",
    "col_vector = a[:, np.newaxis]\n",
    "print(col_vector.shape)\n",
    "print(col_vector)"
   ]
  },
  {
   "cell_type": "code",
   "execution_count": 28,
   "id": "5ee84234",
   "metadata": {},
   "outputs": [
    {
     "data": {
      "text/plain": [
       "(6,)"
      ]
     },
     "execution_count": 28,
     "metadata": {},
     "output_type": "execute_result"
    }
   ],
   "source": [
    "a = np.array([1, 2, 3, 4, 5, 6])\n",
    "a.shape"
   ]
  },
  {
   "cell_type": "code",
   "execution_count": 29,
   "id": "388b9559",
   "metadata": {},
   "outputs": [
    {
     "data": {
      "text/plain": [
       "(6, 1)"
      ]
     },
     "execution_count": 29,
     "metadata": {},
     "output_type": "execute_result"
    }
   ],
   "source": [
    "# add an axis index position 1\n",
    "\n",
    "b = np.expand_dims(a, axis=1)\n",
    "b.shape"
   ]
  },
  {
   "cell_type": "code",
   "execution_count": 30,
   "id": "1a8edf8f",
   "metadata": {},
   "outputs": [
    {
     "data": {
      "text/plain": [
       "(6, 1)"
      ]
     },
     "execution_count": 30,
     "metadata": {},
     "output_type": "execute_result"
    }
   ],
   "source": [
    "# add an axis at index position 0\n",
    "\n",
    "b = np.expand_dims(a, axis=1)\n",
    "b.shape"
   ]
  },
  {
   "cell_type": "markdown",
   "id": "526fcc93",
   "metadata": {},
   "source": [
    "### Indexing and Slicing"
   ]
  },
  {
   "cell_type": "code",
   "execution_count": 31,
   "id": "275708f2",
   "metadata": {},
   "outputs": [
    {
     "name": "stdout",
     "output_type": "stream",
     "text": [
      "[1 2 3]\n",
      "1\n",
      "2\n",
      "[1 2]\n",
      "[2 3]\n",
      "[2 3]\n"
     ]
    }
   ],
   "source": [
    "data = np.array([1,2,3])\n",
    "\n",
    "print(data)\n",
    "print(data[0])\n",
    "print(data[1])\n",
    "print(data[0:2])\n",
    "print(data[1:])\n",
    "print(data[-2:])"
   ]
  },
  {
   "cell_type": "code",
   "execution_count": 32,
   "id": "f826fec5",
   "metadata": {},
   "outputs": [
    {
     "data": {
      "text/plain": [
       "array([[ 1,  2,  3,  4],\n",
       "       [ 5,  6,  7,  8],\n",
       "       [ 9, 10, 11, 12]])"
      ]
     },
     "execution_count": 32,
     "metadata": {},
     "output_type": "execute_result"
    }
   ],
   "source": [
    "# memilih nilai dari array kalian yang memenuhi kondisi tertentu\n",
    "\n",
    "a = np.array([[1 , 2, 3, 4], [5, 6, 7, 8], [9, 10, 11, 12]])\n",
    "a"
   ]
  },
  {
   "cell_type": "code",
   "execution_count": 35,
   "id": "0db2d36d",
   "metadata": {},
   "outputs": [
    {
     "name": "stdout",
     "output_type": "stream",
     "text": [
      "[ 5  6  7  8  9 10 11 12]\n"
     ]
    }
   ],
   "source": [
    "# memilih array kurang dari 5\n",
    "\n",
    "print(a[a>=5])"
   ]
  },
  {
   "cell_type": "code",
   "execution_count": 36,
   "id": "6967742d",
   "metadata": {},
   "outputs": [
    {
     "name": "stdout",
     "output_type": "stream",
     "text": [
      "[ 5  6  7  8  9 10 11 12]\n",
      "[ 5  6  7  8  9 10 11 12]\n"
     ]
    }
   ],
   "source": [
    "# memilih array lebih dari 5\n",
    "\n",
    "five_up = (a >= 5)\n",
    "\n",
    "print(a[five_up])\n",
    "print(a[a>=5])"
   ]
  },
  {
   "cell_type": "code",
   "execution_count": 37,
   "id": "74946f8f",
   "metadata": {},
   "outputs": [
    {
     "name": "stdout",
     "output_type": "stream",
     "text": [
      "[ 2  4  6  8 10 12]\n"
     ]
    }
   ],
   "source": [
    "# divisible by 2\n",
    "\n",
    "divisible_by_2 = a[a%2==0]\n",
    "\n",
    "print(divisible_by_2)"
   ]
  },
  {
   "cell_type": "code",
   "execution_count": 38,
   "id": "021ea5e6",
   "metadata": {},
   "outputs": [
    {
     "name": "stdout",
     "output_type": "stream",
     "text": [
      "[ 3  4  5  6  7  8  9 10]\n"
     ]
    }
   ],
   "source": [
    "# using & and | operator\n",
    "\n",
    "c = a[(a > 2) & (a < 11)]\n",
    "\n",
    "print(c)"
   ]
  },
  {
   "cell_type": "markdown",
   "id": "82e049c5",
   "metadata": {},
   "source": [
    "### Creating Array from Existing Data\n",
    "slicing indexing\n",
    "- np.vstack()\n",
    "- np.hstack()\n",
    "- np.hsplit()\n",
    "- .view()\n",
    "- .copy()"
   ]
  },
  {
   "cell_type": "code",
   "execution_count": 39,
   "id": "83ef69c7",
   "metadata": {},
   "outputs": [],
   "source": [
    "arr = np.array([ 1,  2,  3,  4,  5,  6,  7,  8,  9, 10])"
   ]
  },
  {
   "cell_type": "code",
   "execution_count": 40,
   "id": "88e12bf9",
   "metadata": {},
   "outputs": [
    {
     "data": {
      "text/plain": [
       "array([4, 5, 6, 7, 8])"
      ]
     },
     "execution_count": 40,
     "metadata": {},
     "output_type": "execute_result"
    }
   ],
   "source": [
    "# mengambil array ke 3 sampai 8\n",
    "\n",
    "arr1 = arr[3:8]\n",
    "arr1"
   ]
  },
  {
   "cell_type": "code",
   "execution_count": 44,
   "id": "d1a54a4e",
   "metadata": {},
   "outputs": [
    {
     "data": {
      "text/plain": [
       "array([[1, 1],\n",
       "       [2, 2],\n",
       "       [3, 3],\n",
       "       [4, 4]])"
      ]
     },
     "execution_count": 44,
     "metadata": {},
     "output_type": "execute_result"
    }
   ],
   "source": [
    "# vstack vertically\n",
    "\n",
    "a_1 = np.array([[1, 1],\n",
    "                [2, 2]])\n",
    "\n",
    "a_2 = np.array([[3, 3],\n",
    "                [4, 4]])\n",
    "\n",
    "np.vstack((a_1, a_2))"
   ]
  },
  {
   "cell_type": "code",
   "execution_count": 45,
   "id": "389feb6d",
   "metadata": {},
   "outputs": [
    {
     "data": {
      "text/plain": [
       "array([[1, 1, 3, 3],\n",
       "       [2, 2, 4, 4]])"
      ]
     },
     "execution_count": 45,
     "metadata": {},
     "output_type": "execute_result"
    }
   ],
   "source": [
    "# vstack horizontally\n",
    "\n",
    "np.hstack((a_1, a_2))"
   ]
  },
  {
   "cell_type": "code",
   "execution_count": 48,
   "id": "b67d4da0",
   "metadata": {},
   "outputs": [
    {
     "name": "stdout",
     "output_type": "stream",
     "text": [
      "[[ 1  2  3  4  5  6  7  8  9 10 11 12]\n",
      " [13 14 15 16 17 18 19 20 21 22 23 24]]\n"
     ]
    }
   ],
   "source": [
    "# membagi sebuah array menjadi beberapa array yang lebih kecil \n",
    "\n",
    "arrsplit = np.array([[1,  2,  3,  4,  5,  6,  7,  8,  9, 10, 11, 12],\n",
    "                     [13, 14, 15, 16, 17, 18, 19, 20, 21, 22, 23, 24]])\n",
    "\n",
    "print(arrsplit)"
   ]
  },
  {
   "cell_type": "code",
   "execution_count": 49,
   "id": "11f2390d",
   "metadata": {},
   "outputs": [
    {
     "data": {
      "text/plain": [
       "[array([[ 1,  2,  3,  4],\n",
       "        [13, 14, 15, 16]]),\n",
       " array([[ 5,  6,  7,  8],\n",
       "        [17, 18, 19, 20]]),\n",
       " array([[ 9, 10, 11, 12],\n",
       "        [21, 22, 23, 24]])]"
      ]
     },
     "execution_count": 49,
     "metadata": {},
     "output_type": "execute_result"
    }
   ],
   "source": [
    "# split to 3 equallly shaped array\n",
    "\n",
    "np.hsplit(arrsplit,3)"
   ]
  },
  {
   "cell_type": "code",
   "execution_count": 50,
   "id": "bcf6adf1",
   "metadata": {},
   "outputs": [
    {
     "data": {
      "text/plain": [
       "array([[ 1,  2,  3,  4],\n",
       "       [ 5,  6,  7,  8],\n",
       "       [ 9, 10, 11, 12]])"
      ]
     },
     "execution_count": 50,
     "metadata": {},
     "output_type": "execute_result"
    }
   ],
   "source": [
    "# metode view untuk membuat objek array baru yang terlihat sama dengan array asli (shallow copy)\n",
    "\n",
    "a = np.array([[1 , 2, 3, 4], [5, 6, 7, 8], [9, 10, 11, 12]])\n",
    "a"
   ]
  },
  {
   "cell_type": "code",
   "execution_count": 51,
   "id": "9f956df7",
   "metadata": {},
   "outputs": [
    {
     "data": {
      "text/plain": [
       "array([[ 1,  2,  3,  4],\n",
       "       [ 5,  6,  7,  8],\n",
       "       [ 9, 10, 11, 12]])"
      ]
     },
     "execution_count": 51,
     "metadata": {},
     "output_type": "execute_result"
    }
   ],
   "source": [
    "b = a.view()\n",
    "b"
   ]
  },
  {
   "cell_type": "code",
   "execution_count": 52,
   "id": "bfa7e026",
   "metadata": {},
   "outputs": [
    {
     "data": {
      "text/plain": [
       "array([[ 1,  2,  3,  4],\n",
       "       [ 5,  6,  7,  8],\n",
       "       [ 9, 10, 11, 12]])"
      ]
     },
     "execution_count": 52,
     "metadata": {},
     "output_type": "execute_result"
    }
   ],
   "source": [
    "c = a.copy()\n",
    "c"
   ]
  },
  {
   "cell_type": "markdown",
   "id": "adc9f3b6",
   "metadata": {},
   "source": [
    "### Basic array operations"
   ]
  },
  {
   "cell_type": "code",
   "execution_count": 53,
   "id": "753b27fe",
   "metadata": {},
   "outputs": [
    {
     "data": {
      "text/plain": [
       "10"
      ]
     },
     "execution_count": 53,
     "metadata": {},
     "output_type": "execute_result"
    }
   ],
   "source": [
    "# sum\n",
    "\n",
    "a = np.array([1, 2, 3, 4])\n",
    "a.sum()"
   ]
  },
  {
   "cell_type": "code",
   "execution_count": 54,
   "id": "d73cb425",
   "metadata": {},
   "outputs": [
    {
     "data": {
      "text/plain": [
       "array([[1, 1],\n",
       "       [2, 2]])"
      ]
     },
     "execution_count": 54,
     "metadata": {},
     "output_type": "execute_result"
    }
   ],
   "source": [
    "b = np.array([[1, 1], [2, 2]])\n",
    "b"
   ]
  },
  {
   "cell_type": "code",
   "execution_count": 55,
   "id": "0998f866",
   "metadata": {},
   "outputs": [
    {
     "data": {
      "text/plain": [
       "array([3, 3])"
      ]
     },
     "execution_count": 55,
     "metadata": {},
     "output_type": "execute_result"
    }
   ],
   "source": [
    "# sum rows\n",
    "\n",
    "b.sum(axis=0)"
   ]
  },
  {
   "cell_type": "code",
   "execution_count": 56,
   "id": "c51a01bf",
   "metadata": {},
   "outputs": [
    {
     "data": {
      "text/plain": [
       "array([2, 4])"
      ]
     },
     "execution_count": 56,
     "metadata": {},
     "output_type": "execute_result"
    }
   ],
   "source": [
    "# sum columns\n",
    "\n",
    "b.sum(axis=1)"
   ]
  },
  {
   "cell_type": "code",
   "execution_count": 58,
   "id": "f69a8d94",
   "metadata": {},
   "outputs": [
    {
     "data": {
      "text/plain": [
       "array([1, 2])"
      ]
     },
     "execution_count": 58,
     "metadata": {},
     "output_type": "execute_result"
    }
   ],
   "source": [
    "data = np.array([1, 2])\n",
    "data"
   ]
  },
  {
   "cell_type": "code",
   "execution_count": 59,
   "id": "a6cf4dee",
   "metadata": {},
   "outputs": [
    {
     "data": {
      "text/plain": [
       "array([1., 1.])"
      ]
     },
     "execution_count": 59,
     "metadata": {},
     "output_type": "execute_result"
    }
   ],
   "source": [
    "ones = np.ones(2)\n",
    "ones"
   ]
  },
  {
   "cell_type": "code",
   "execution_count": 60,
   "id": "05dbe2b5",
   "metadata": {},
   "outputs": [
    {
     "data": {
      "text/plain": [
       "array([2., 3.])"
      ]
     },
     "execution_count": 60,
     "metadata": {},
     "output_type": "execute_result"
    }
   ],
   "source": [
    "# pertambahan\n",
    "\n",
    "data + ones"
   ]
  },
  {
   "cell_type": "code",
   "execution_count": 61,
   "id": "c9910f75",
   "metadata": {},
   "outputs": [
    {
     "data": {
      "text/plain": [
       "array([1, 4])"
      ]
     },
     "execution_count": 61,
     "metadata": {},
     "output_type": "execute_result"
    }
   ],
   "source": [
    "# perkalian\n",
    "\n",
    "* data"
   ]
  },
  {
   "cell_type": "code",
   "execution_count": 62,
   "id": "0df6195e",
   "metadata": {},
   "outputs": [
    {
     "data": {
      "text/plain": [
       "array([1., 1.])"
      ]
     },
     "execution_count": 62,
     "metadata": {},
     "output_type": "execute_result"
    }
   ],
   "source": [
    "# pembagian\n",
    "\n",
    "data / data"
   ]
  },
  {
   "cell_type": "markdown",
   "id": "05b8cd63",
   "metadata": {},
   "source": [
    "### Broadcasting\n",
    "mekanisme yang memungkinkan NumPy melakukan operasi pada array dengan bentuk berbeda"
   ]
  },
  {
   "cell_type": "code",
   "execution_count": 63,
   "id": "ecdd3d4a",
   "metadata": {},
   "outputs": [
    {
     "data": {
      "text/plain": [
       "array([2, 4])"
      ]
     },
     "execution_count": 63,
     "metadata": {},
     "output_type": "execute_result"
    }
   ],
   "source": [
    "data * 2"
   ]
  },
  {
   "cell_type": "markdown",
   "id": "654a862e",
   "metadata": {},
   "source": [
    "### More Array Operations\n",
    "- data.max()\n",
    "- data.min()\n",
    "- data.sum()"
   ]
  },
  {
   "cell_type": "code",
   "execution_count": 64,
   "id": "ea9bdc47",
   "metadata": {},
   "outputs": [
    {
     "name": "stdout",
     "output_type": "stream",
     "text": [
      "[[0.45053314 0.17296777 0.34376245 0.5510652 ]\n",
      " [0.54627315 0.05093587 0.40067661 0.55645993]\n",
      " [0.12697628 0.82485143 0.26590556 0.56917101]]\n"
     ]
    }
   ],
   "source": [
    "A = np.array([[0.45053314, 0.17296777, 0.34376245, 0.5510652],\n",
    "              [0.54627315, 0.05093587, 0.40067661, 0.55645993],\n",
    "              [0.12697628, 0.82485143, 0.26590556, 0.56917101]])\n",
    "\n",
    "print(A)"
   ]
  },
  {
   "cell_type": "code",
   "execution_count": 65,
   "id": "944537c5",
   "metadata": {},
   "outputs": [
    {
     "data": {
      "text/plain": [
       "4.8595784"
      ]
     },
     "execution_count": 65,
     "metadata": {},
     "output_type": "execute_result"
    }
   ],
   "source": [
    "A.sum()"
   ]
  },
  {
   "cell_type": "code",
   "execution_count": 66,
   "id": "4fb21c67",
   "metadata": {},
   "outputs": [
    {
     "data": {
      "text/plain": [
       "0.05093587"
      ]
     },
     "execution_count": 66,
     "metadata": {},
     "output_type": "execute_result"
    }
   ],
   "source": [
    "A.min()"
   ]
  },
  {
   "cell_type": "code",
   "execution_count": 67,
   "id": "d925b88b",
   "metadata": {},
   "outputs": [
    {
     "data": {
      "text/plain": [
       "array([0.12697628, 0.05093587, 0.26590556, 0.5510652 ])"
      ]
     },
     "execution_count": 67,
     "metadata": {},
     "output_type": "execute_result"
    }
   ],
   "source": [
    "A.min(axis=0)"
   ]
  },
  {
   "cell_type": "code",
   "execution_count": 68,
   "id": "e49850d3",
   "metadata": {},
   "outputs": [
    {
     "data": {
      "text/plain": [
       "0.82485143"
      ]
     },
     "execution_count": 68,
     "metadata": {},
     "output_type": "execute_result"
    }
   ],
   "source": [
    "A.max()"
   ]
  },
  {
   "cell_type": "code",
   "execution_count": 69,
   "id": "699328f3",
   "metadata": {},
   "outputs": [
    {
     "data": {
      "text/plain": [
       "array([0.5510652 , 0.55645993, 0.82485143])"
      ]
     },
     "execution_count": 69,
     "metadata": {},
     "output_type": "execute_result"
    }
   ],
   "source": [
    "A.max(axis=1)"
   ]
  },
  {
   "cell_type": "code",
   "execution_count": 70,
   "id": "5c74ad1a",
   "metadata": {},
   "outputs": [
    {
     "data": {
      "text/plain": [
       "0.21392120766089617"
      ]
     },
     "execution_count": 70,
     "metadata": {},
     "output_type": "execute_result"
    }
   ],
   "source": [
    "A.std()"
   ]
  },
  {
   "cell_type": "markdown",
   "id": "b2b2cf33",
   "metadata": {},
   "source": [
    "## Matrices"
   ]
  },
  {
   "cell_type": "markdown",
   "id": "920e1fc4",
   "metadata": {},
   "source": [
    "### Creating Matrices"
   ]
  },
  {
   "cell_type": "code",
   "execution_count": 71,
   "id": "710f132f",
   "metadata": {},
   "outputs": [
    {
     "data": {
      "text/plain": [
       "array([[0.006697  , 0.63615813],\n",
       "       [0.9006726 , 0.19370824],\n",
       "       [0.16686509, 0.64293364]])"
      ]
     },
     "execution_count": 71,
     "metadata": {},
     "output_type": "execute_result"
    }
   ],
   "source": [
    "np.ones((3,2))\n",
    "np.zeros((3,2))\n",
    "np.random.random((3,2))"
   ]
  },
  {
   "cell_type": "code",
   "execution_count": 72,
   "id": "732b6500",
   "metadata": {},
   "outputs": [
    {
     "name": "stdout",
     "output_type": "stream",
     "text": [
      "[[1. 1.]\n",
      " [1. 1.]\n",
      " [1. 1.]]\n",
      "[[0. 0.]\n",
      " [0. 0.]\n",
      " [0. 0.]]\n",
      "[[0.25381848 0.27774327]\n",
      " [0.94958577 0.6910619 ]\n",
      " [0.82461694 0.98615619]]\n"
     ]
    }
   ],
   "source": [
    "print(np.ones((3,2)))\n",
    "print(np.zeros((3,2)))\n",
    "print(np.random.random((3,2)))"
   ]
  },
  {
   "cell_type": "markdown",
   "id": "001d080c",
   "metadata": {},
   "source": [
    "### Matrix Arithmetic"
   ]
  },
  {
   "cell_type": "code",
   "execution_count": 73,
   "id": "09db1383",
   "metadata": {},
   "outputs": [
    {
     "name": "stdout",
     "output_type": "stream",
     "text": [
      "[[1 2]\n",
      " [3 4]]\n"
     ]
    }
   ],
   "source": [
    "data = np.array([[1, 2], [3, 4]])\n",
    "print(data)"
   ]
  },
  {
   "cell_type": "code",
   "execution_count": 74,
   "id": "d8a894b0",
   "metadata": {},
   "outputs": [
    {
     "name": "stdout",
     "output_type": "stream",
     "text": [
      "[[1. 1.]\n",
      " [1. 1.]]\n"
     ]
    }
   ],
   "source": [
    "ones = np.ones([2, 2])\n",
    "print(ones)"
   ]
  },
  {
   "cell_type": "code",
   "execution_count": 75,
   "id": "8a6c254b",
   "metadata": {},
   "outputs": [
    {
     "name": "stdout",
     "output_type": "stream",
     "text": [
      "[[2. 3.]\n",
      " [4. 5.]]\n"
     ]
    }
   ],
   "source": [
    "# penjumlahan\n",
    "\n",
    "print(data + ones)"
   ]
  },
  {
   "cell_type": "code",
   "execution_count": 76,
   "id": "8484bf81",
   "metadata": {},
   "outputs": [
    {
     "name": "stdout",
     "output_type": "stream",
     "text": [
      "[[1. 1.]]\n"
     ]
    }
   ],
   "source": [
    "ones_row = np.ones([1, 2])\n",
    "print(ones_row)"
   ]
  },
  {
   "cell_type": "code",
   "execution_count": 77,
   "id": "81591bec",
   "metadata": {},
   "outputs": [
    {
     "name": "stdout",
     "output_type": "stream",
     "text": [
      "[[2. 3.]\n",
      " [4. 5.]]\n"
     ]
    }
   ],
   "source": [
    "print(data + ones_row)"
   ]
  },
  {
   "cell_type": "markdown",
   "id": "3f6d7e75",
   "metadata": {},
   "source": [
    "### Dot Product"
   ]
  },
  {
   "cell_type": "code",
   "execution_count": 78,
   "id": "a6785092",
   "metadata": {},
   "outputs": [
    {
     "name": "stdout",
     "output_type": "stream",
     "text": [
      "[[1 2 3]\n",
      " [4 5 6]]\n",
      "(2, 3)\n",
      "[[ 7  8]\n",
      " [ 9 10]\n",
      " [11 12]]\n",
      "(3, 2)\n"
     ]
    }
   ],
   "source": [
    "a_1 = np.array([[1, 2, 3], [4, 5, 6]])\n",
    "print(a_1)\n",
    "print(a_1.shape)\n",
    "\n",
    "a_2 = np.array([[7, 8], [9, 10], [11, 12]])\n",
    "print(a_2)\n",
    "print(a_2.shape)"
   ]
  },
  {
   "cell_type": "code",
   "execution_count": 79,
   "id": "ed6a5089",
   "metadata": {},
   "outputs": [
    {
     "data": {
      "text/plain": [
       "array([[ 58,  64],\n",
       "       [139, 154]])"
      ]
     },
     "execution_count": 79,
     "metadata": {},
     "output_type": "execute_result"
    }
   ],
   "source": [
    "np.dot(a_1, a_2)"
   ]
  },
  {
   "cell_type": "markdown",
   "id": "961c2c25",
   "metadata": {},
   "source": [
    "### Matrix Indexing"
   ]
  },
  {
   "cell_type": "code",
   "execution_count": 80,
   "id": "f86c8c1a",
   "metadata": {},
   "outputs": [
    {
     "name": "stdout",
     "output_type": "stream",
     "text": [
      "[[1 2]\n",
      " [3 4]\n",
      " [5 6]]\n",
      "[1 2]\n",
      "[3 4]\n",
      "[5 6]\n",
      "2\n",
      "[[3 4]\n",
      " [5 6]]\n",
      "[2 4]\n"
     ]
    }
   ],
   "source": [
    "data = np.array([[1, 2], [3, 4], [5, 6]])\n",
    "\n",
    "print(data)\n",
    "print(data[0])\n",
    "print(data[1])\n",
    "print(data[2])\n",
    "print(data[0,1])\n",
    "print(data[1:3])\n",
    "print(data[0:2,1])"
   ]
  },
  {
   "cell_type": "markdown",
   "id": "e838a542",
   "metadata": {},
   "source": [
    "### Matrix Aggregation"
   ]
  },
  {
   "cell_type": "code",
   "execution_count": 81,
   "id": "b6a005f6",
   "metadata": {},
   "outputs": [
    {
     "name": "stdout",
     "output_type": "stream",
     "text": [
      "[[1 2]\n",
      " [3 4]\n",
      " [5 6]]\n"
     ]
    }
   ],
   "source": [
    "print(data)"
   ]
  },
  {
   "cell_type": "code",
   "execution_count": 82,
   "id": "79b5d076",
   "metadata": {},
   "outputs": [
    {
     "name": "stdout",
     "output_type": "stream",
     "text": [
      "6\n",
      "1\n",
      "21\n"
     ]
    }
   ],
   "source": [
    "print(data.max())\n",
    "print(data.min())\n",
    "print(data.sum())"
   ]
  },
  {
   "cell_type": "code",
   "execution_count": 83,
   "id": "c5cf3b42",
   "metadata": {},
   "outputs": [
    {
     "name": "stdout",
     "output_type": "stream",
     "text": [
      "[5 6]\n",
      "[2 4 6]\n"
     ]
    }
   ],
   "source": [
    "print(data.max(axis=0))\n",
    "print(data.max(axis=1))"
   ]
  },
  {
   "cell_type": "markdown",
   "id": "d31397c3",
   "metadata": {},
   "source": [
    "### Transposing and Reshaping"
   ]
  },
  {
   "cell_type": "code",
   "execution_count": 84,
   "id": "250ee3e3",
   "metadata": {},
   "outputs": [
    {
     "name": "stdout",
     "output_type": "stream",
     "text": [
      "[[1 2]\n",
      " [3 4]\n",
      " [5 6]]\n"
     ]
    }
   ],
   "source": [
    "print(data)"
   ]
  },
  {
   "cell_type": "code",
   "execution_count": 85,
   "id": "0e3c93af",
   "metadata": {},
   "outputs": [
    {
     "name": "stdout",
     "output_type": "stream",
     "text": [
      "[[1 3 5]\n",
      " [2 4 6]]\n"
     ]
    }
   ],
   "source": [
    "# transpose\n",
    "\n",
    "print(data.T)"
   ]
  },
  {
   "cell_type": "code",
   "execution_count": 86,
   "id": "f00eb5a8",
   "metadata": {},
   "outputs": [
    {
     "name": "stdout",
     "output_type": "stream",
     "text": [
      "[[1]\n",
      " [2]\n",
      " [3]\n",
      " [4]\n",
      " [5]\n",
      " [6]]\n"
     ]
    }
   ],
   "source": [
    "data_col = np.array([[1, 2, 3, 4, 5, 6]]).T\n",
    "print(data_col)"
   ]
  },
  {
   "cell_type": "code",
   "execution_count": 88,
   "id": "7ea75755",
   "metadata": {},
   "outputs": [
    {
     "data": {
      "text/plain": [
       "array([[1, 2, 3],\n",
       "       [4, 5, 6]])"
      ]
     },
     "execution_count": 88,
     "metadata": {},
     "output_type": "execute_result"
    }
   ],
   "source": [
    "# reshape\n",
    "\n",
    "data_col.reshape(2, 3)"
   ]
  },
  {
   "cell_type": "code",
   "execution_count": 89,
   "id": "a265fe27",
   "metadata": {},
   "outputs": [
    {
     "data": {
      "text/plain": [
       "array([[1, 2],\n",
       "       [3, 4],\n",
       "       [5, 6]])"
      ]
     },
     "execution_count": 89,
     "metadata": {},
     "output_type": "execute_result"
    }
   ],
   "source": [
    "data_col.reshape(3, 2)"
   ]
  },
  {
   "cell_type": "code",
   "execution_count": 90,
   "id": "18b9ba8a",
   "metadata": {},
   "outputs": [
    {
     "name": "stdout",
     "output_type": "stream",
     "text": [
      "[[0 1 2]\n",
      " [3 4 5]]\n"
     ]
    }
   ],
   "source": [
    "arr = np.arange(6).reshape((2, 3))\n",
    "print(arr)"
   ]
  },
  {
   "cell_type": "markdown",
   "id": "1a46d3f5",
   "metadata": {},
   "source": [
    "### N-Dimensional Array"
   ]
  },
  {
   "cell_type": "code",
   "execution_count": 91,
   "id": "daeab469",
   "metadata": {},
   "outputs": [
    {
     "name": "stdout",
     "output_type": "stream",
     "text": [
      "[[[1 2]\n",
      "  [3 4]]\n",
      "\n",
      " [[5 6]\n",
      "  [7 8]]]\n"
     ]
    }
   ],
   "source": [
    "ndarr = np.array([[[1, 2], [3, 4]],\n",
    "                  [[5, 6], [7, 8]]])\n",
    "\n",
    "print(ndarr)"
   ]
  },
  {
   "cell_type": "code",
   "execution_count": 92,
   "id": "4da6cc11",
   "metadata": {},
   "outputs": [
    {
     "name": "stdout",
     "output_type": "stream",
     "text": [
      "[[[1. 1.]\n",
      "  [1. 1.]\n",
      "  [1. 1.]]\n",
      "\n",
      " [[1. 1.]\n",
      "  [1. 1.]\n",
      "  [1. 1.]]\n",
      "\n",
      " [[1. 1.]\n",
      "  [1. 1.]\n",
      "  [1. 1.]]\n",
      "\n",
      " [[1. 1.]\n",
      "  [1. 1.]\n",
      "  [1. 1.]]]\n"
     ]
    }
   ],
   "source": [
    "print(np.ones((4,3,2)))"
   ]
  },
  {
   "cell_type": "code",
   "execution_count": 93,
   "id": "79d874db",
   "metadata": {},
   "outputs": [
    {
     "name": "stdout",
     "output_type": "stream",
     "text": [
      "[[[0. 0.]\n",
      "  [0. 0.]\n",
      "  [0. 0.]]\n",
      "\n",
      " [[0. 0.]\n",
      "  [0. 0.]\n",
      "  [0. 0.]]\n",
      "\n",
      " [[0. 0.]\n",
      "  [0. 0.]\n",
      "  [0. 0.]]\n",
      "\n",
      " [[0. 0.]\n",
      "  [0. 0.]\n",
      "  [0. 0.]]]\n"
     ]
    }
   ],
   "source": [
    "print(np.zeros((4,3,2)))"
   ]
  },
  {
   "cell_type": "code",
   "execution_count": 94,
   "id": "b77c69b6",
   "metadata": {},
   "outputs": [
    {
     "name": "stdout",
     "output_type": "stream",
     "text": [
      "[[[0.41124779 0.80298615]\n",
      "  [0.83141123 0.75494069]\n",
      "  [0.77507483 0.01733948]]\n",
      "\n",
      " [[0.37085915 0.43354477]\n",
      "  [0.38237744 0.22612188]\n",
      "  [0.1396432  0.80539917]]\n",
      "\n",
      " [[0.35371732 0.51377148]\n",
      "  [0.06538242 0.1698607 ]\n",
      "  [0.763529   0.13773906]]\n",
      "\n",
      " [[0.10860849 0.39523419]\n",
      "  [0.9335467  0.73799412]\n",
      "  [0.31147334 0.91581848]]]\n"
     ]
    }
   ],
   "source": [
    "# generate random number\n",
    "\n",
    "print(np.random.random((4,3,2)))"
   ]
  },
  {
   "cell_type": "markdown",
   "id": "420b09c7",
   "metadata": {},
   "source": [
    "### Flatten N-Dimensional Array"
   ]
  },
  {
   "cell_type": "code",
   "execution_count": 95,
   "id": "ed016164",
   "metadata": {},
   "outputs": [
    {
     "name": "stdout",
     "output_type": "stream",
     "text": [
      "[[ 1  2  3  4]\n",
      " [ 5  6  7  8]\n",
      " [ 9 10 11 12]]\n"
     ]
    }
   ],
   "source": [
    "arrflat = np.array([[1, 2, 3, 4], [5, 6, 7, 8], [9, 10, 11, 12]])\n",
    "\n",
    "print(arrflat)"
   ]
  },
  {
   "cell_type": "code",
   "execution_count": 96,
   "id": "af47fcef",
   "metadata": {},
   "outputs": [
    {
     "data": {
      "text/plain": [
       "array([ 1,  2,  3,  4,  5,  6,  7,  8,  9, 10, 11, 12])"
      ]
     },
     "execution_count": 96,
     "metadata": {},
     "output_type": "execute_result"
    }
   ],
   "source": [
    "# into 1D array\n",
    "\n",
    "arrflat.flatten()"
   ]
  },
  {
   "attachments": {
    "image.png": {
     "image/png": "[encoded data removed]"
    }
   },
   "cell_type": "markdown",
   "id": "64b4bad2",
   "metadata": {},
   "source": [
    "### Working with Math Formulas\n",
    "\n",
    "![image.png](attachment:image.png)"
   ]
  },
  {
   "cell_type": "code",
   "execution_count": null,
   "id": "85859a29",
   "metadata": {},
   "outputs": [],
   "source": []
  }
 ],
 "metadata": {
  "kernelspec": {
   "display_name": "Python 3 (ipykernel)",
   "language": "python",
   "name": "python3"
  },
  "language_info": {
   "codemirror_mode": {
    "name": "ipython",
    "version": 3
   },
   "file_extension": ".py",
   "mimetype": "text/x-python",
   "name": "python",
   "nbconvert_exporter": "python",
   "pygments_lexer": "ipython3",
   "version": "3.9.7"
  }
 },
 "nbformat": 4,
 "nbformat_minor": 5
}
